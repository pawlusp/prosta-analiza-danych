{
 "cells": [
  {
   "cell_type": "code",
   "execution_count": 1,
   "id": "9b767d5e",
   "metadata": {},
   "outputs": [],
   "source": [
    "import pandas as pd\n",
    "import requests\n",
    "from zipfile import ZipFile\n",
    "import matplotlib.pyplot as plt\n",
    "import numpy as np\n",
    "import seaborn as sns"
   ]
  },
  {
   "cell_type": "code",
   "execution_count": 2,
   "id": "2a7ba944",
   "metadata": {},
   "outputs": [
    {
     "data": {
      "text/plain": [
       "1543989"
      ]
     },
     "execution_count": 2,
     "metadata": {},
     "output_type": "execute_result"
    }
   ],
   "source": [
    "data_url = 'https://archive.ics.uci.edu/ml/machine-learning-databases/00360/AirQualityUCI.zip'\n",
    "r = requests.get(data_url,allow_redirects = True)\n",
    "open('AirQualityUCI.zip', 'wb').write(r.content)"
   ]
  },
  {
   "cell_type": "code",
   "execution_count": 3,
   "id": "d006ea38",
   "metadata": {},
   "outputs": [],
   "source": [
    "data_zip = ZipFile('AirQualityUCI.zip')\n",
    "data_zip.extractall()"
   ]
  },
  {
   "cell_type": "code",
   "execution_count": 4,
   "id": "a040cd5a",
   "metadata": {},
   "outputs": [],
   "source": [
    "data = pd.read_csv('AirQualityUCI.csv', sep = ';', decimal=',')"
   ]
  },
  {
   "cell_type": "code",
   "execution_count": 5,
   "id": "dbc8233f",
   "metadata": {},
   "outputs": [
    {
     "data": {
      "text/html": [
       "<div>\n",
       "<style scoped>\n",
       "    .dataframe tbody tr th:only-of-type {\n",
       "        vertical-align: middle;\n",
       "    }\n",
       "\n",
       "    .dataframe tbody tr th {\n",
       "        vertical-align: top;\n",
       "    }\n",
       "\n",
       "    .dataframe thead th {\n",
       "        text-align: right;\n",
       "    }\n",
       "</style>\n",
       "<table border=\"1\" class=\"dataframe\">\n",
       "  <thead>\n",
       "    <tr style=\"text-align: right;\">\n",
       "      <th></th>\n",
       "      <th>Date</th>\n",
       "      <th>Time</th>\n",
       "      <th>CO(GT)</th>\n",
       "      <th>PT08.S1(CO)</th>\n",
       "      <th>NMHC(GT)</th>\n",
       "      <th>C6H6(GT)</th>\n",
       "      <th>PT08.S2(NMHC)</th>\n",
       "      <th>NOx(GT)</th>\n",
       "      <th>PT08.S3(NOx)</th>\n",
       "      <th>NO2(GT)</th>\n",
       "      <th>PT08.S4(NO2)</th>\n",
       "      <th>PT08.S5(O3)</th>\n",
       "      <th>T</th>\n",
       "      <th>RH</th>\n",
       "      <th>AH</th>\n",
       "      <th>Unnamed: 15</th>\n",
       "      <th>Unnamed: 16</th>\n",
       "    </tr>\n",
       "  </thead>\n",
       "  <tbody>\n",
       "    <tr>\n",
       "      <th>0</th>\n",
       "      <td>10/03/2004</td>\n",
       "      <td>18.00.00</td>\n",
       "      <td>2.6</td>\n",
       "      <td>1360.0</td>\n",
       "      <td>150.0</td>\n",
       "      <td>11.9</td>\n",
       "      <td>1046.0</td>\n",
       "      <td>166.0</td>\n",
       "      <td>1056.0</td>\n",
       "      <td>113.0</td>\n",
       "      <td>1692.0</td>\n",
       "      <td>1268.0</td>\n",
       "      <td>13.6</td>\n",
       "      <td>48.9</td>\n",
       "      <td>0.7578</td>\n",
       "      <td>NaN</td>\n",
       "      <td>NaN</td>\n",
       "    </tr>\n",
       "    <tr>\n",
       "      <th>1</th>\n",
       "      <td>10/03/2004</td>\n",
       "      <td>19.00.00</td>\n",
       "      <td>2.0</td>\n",
       "      <td>1292.0</td>\n",
       "      <td>112.0</td>\n",
       "      <td>9.4</td>\n",
       "      <td>955.0</td>\n",
       "      <td>103.0</td>\n",
       "      <td>1174.0</td>\n",
       "      <td>92.0</td>\n",
       "      <td>1559.0</td>\n",
       "      <td>972.0</td>\n",
       "      <td>13.3</td>\n",
       "      <td>47.7</td>\n",
       "      <td>0.7255</td>\n",
       "      <td>NaN</td>\n",
       "      <td>NaN</td>\n",
       "    </tr>\n",
       "    <tr>\n",
       "      <th>2</th>\n",
       "      <td>10/03/2004</td>\n",
       "      <td>20.00.00</td>\n",
       "      <td>2.2</td>\n",
       "      <td>1402.0</td>\n",
       "      <td>88.0</td>\n",
       "      <td>9.0</td>\n",
       "      <td>939.0</td>\n",
       "      <td>131.0</td>\n",
       "      <td>1140.0</td>\n",
       "      <td>114.0</td>\n",
       "      <td>1555.0</td>\n",
       "      <td>1074.0</td>\n",
       "      <td>11.9</td>\n",
       "      <td>54.0</td>\n",
       "      <td>0.7502</td>\n",
       "      <td>NaN</td>\n",
       "      <td>NaN</td>\n",
       "    </tr>\n",
       "    <tr>\n",
       "      <th>3</th>\n",
       "      <td>10/03/2004</td>\n",
       "      <td>21.00.00</td>\n",
       "      <td>2.2</td>\n",
       "      <td>1376.0</td>\n",
       "      <td>80.0</td>\n",
       "      <td>9.2</td>\n",
       "      <td>948.0</td>\n",
       "      <td>172.0</td>\n",
       "      <td>1092.0</td>\n",
       "      <td>122.0</td>\n",
       "      <td>1584.0</td>\n",
       "      <td>1203.0</td>\n",
       "      <td>11.0</td>\n",
       "      <td>60.0</td>\n",
       "      <td>0.7867</td>\n",
       "      <td>NaN</td>\n",
       "      <td>NaN</td>\n",
       "    </tr>\n",
       "    <tr>\n",
       "      <th>4</th>\n",
       "      <td>10/03/2004</td>\n",
       "      <td>22.00.00</td>\n",
       "      <td>1.6</td>\n",
       "      <td>1272.0</td>\n",
       "      <td>51.0</td>\n",
       "      <td>6.5</td>\n",
       "      <td>836.0</td>\n",
       "      <td>131.0</td>\n",
       "      <td>1205.0</td>\n",
       "      <td>116.0</td>\n",
       "      <td>1490.0</td>\n",
       "      <td>1110.0</td>\n",
       "      <td>11.2</td>\n",
       "      <td>59.6</td>\n",
       "      <td>0.7888</td>\n",
       "      <td>NaN</td>\n",
       "      <td>NaN</td>\n",
       "    </tr>\n",
       "    <tr>\n",
       "      <th>...</th>\n",
       "      <td>...</td>\n",
       "      <td>...</td>\n",
       "      <td>...</td>\n",
       "      <td>...</td>\n",
       "      <td>...</td>\n",
       "      <td>...</td>\n",
       "      <td>...</td>\n",
       "      <td>...</td>\n",
       "      <td>...</td>\n",
       "      <td>...</td>\n",
       "      <td>...</td>\n",
       "      <td>...</td>\n",
       "      <td>...</td>\n",
       "      <td>...</td>\n",
       "      <td>...</td>\n",
       "      <td>...</td>\n",
       "      <td>...</td>\n",
       "    </tr>\n",
       "    <tr>\n",
       "      <th>9466</th>\n",
       "      <td>NaN</td>\n",
       "      <td>NaN</td>\n",
       "      <td>NaN</td>\n",
       "      <td>NaN</td>\n",
       "      <td>NaN</td>\n",
       "      <td>NaN</td>\n",
       "      <td>NaN</td>\n",
       "      <td>NaN</td>\n",
       "      <td>NaN</td>\n",
       "      <td>NaN</td>\n",
       "      <td>NaN</td>\n",
       "      <td>NaN</td>\n",
       "      <td>NaN</td>\n",
       "      <td>NaN</td>\n",
       "      <td>NaN</td>\n",
       "      <td>NaN</td>\n",
       "      <td>NaN</td>\n",
       "    </tr>\n",
       "    <tr>\n",
       "      <th>9467</th>\n",
       "      <td>NaN</td>\n",
       "      <td>NaN</td>\n",
       "      <td>NaN</td>\n",
       "      <td>NaN</td>\n",
       "      <td>NaN</td>\n",
       "      <td>NaN</td>\n",
       "      <td>NaN</td>\n",
       "      <td>NaN</td>\n",
       "      <td>NaN</td>\n",
       "      <td>NaN</td>\n",
       "      <td>NaN</td>\n",
       "      <td>NaN</td>\n",
       "      <td>NaN</td>\n",
       "      <td>NaN</td>\n",
       "      <td>NaN</td>\n",
       "      <td>NaN</td>\n",
       "      <td>NaN</td>\n",
       "    </tr>\n",
       "    <tr>\n",
       "      <th>9468</th>\n",
       "      <td>NaN</td>\n",
       "      <td>NaN</td>\n",
       "      <td>NaN</td>\n",
       "      <td>NaN</td>\n",
       "      <td>NaN</td>\n",
       "      <td>NaN</td>\n",
       "      <td>NaN</td>\n",
       "      <td>NaN</td>\n",
       "      <td>NaN</td>\n",
       "      <td>NaN</td>\n",
       "      <td>NaN</td>\n",
       "      <td>NaN</td>\n",
       "      <td>NaN</td>\n",
       "      <td>NaN</td>\n",
       "      <td>NaN</td>\n",
       "      <td>NaN</td>\n",
       "      <td>NaN</td>\n",
       "    </tr>\n",
       "    <tr>\n",
       "      <th>9469</th>\n",
       "      <td>NaN</td>\n",
       "      <td>NaN</td>\n",
       "      <td>NaN</td>\n",
       "      <td>NaN</td>\n",
       "      <td>NaN</td>\n",
       "      <td>NaN</td>\n",
       "      <td>NaN</td>\n",
       "      <td>NaN</td>\n",
       "      <td>NaN</td>\n",
       "      <td>NaN</td>\n",
       "      <td>NaN</td>\n",
       "      <td>NaN</td>\n",
       "      <td>NaN</td>\n",
       "      <td>NaN</td>\n",
       "      <td>NaN</td>\n",
       "      <td>NaN</td>\n",
       "      <td>NaN</td>\n",
       "    </tr>\n",
       "    <tr>\n",
       "      <th>9470</th>\n",
       "      <td>NaN</td>\n",
       "      <td>NaN</td>\n",
       "      <td>NaN</td>\n",
       "      <td>NaN</td>\n",
       "      <td>NaN</td>\n",
       "      <td>NaN</td>\n",
       "      <td>NaN</td>\n",
       "      <td>NaN</td>\n",
       "      <td>NaN</td>\n",
       "      <td>NaN</td>\n",
       "      <td>NaN</td>\n",
       "      <td>NaN</td>\n",
       "      <td>NaN</td>\n",
       "      <td>NaN</td>\n",
       "      <td>NaN</td>\n",
       "      <td>NaN</td>\n",
       "      <td>NaN</td>\n",
       "    </tr>\n",
       "  </tbody>\n",
       "</table>\n",
       "<p>9471 rows × 17 columns</p>\n",
       "</div>"
      ],
      "text/plain": [
       "            Date      Time  CO(GT)  PT08.S1(CO)  NMHC(GT)  C6H6(GT)  \\\n",
       "0     10/03/2004  18.00.00     2.6       1360.0     150.0      11.9   \n",
       "1     10/03/2004  19.00.00     2.0       1292.0     112.0       9.4   \n",
       "2     10/03/2004  20.00.00     2.2       1402.0      88.0       9.0   \n",
       "3     10/03/2004  21.00.00     2.2       1376.0      80.0       9.2   \n",
       "4     10/03/2004  22.00.00     1.6       1272.0      51.0       6.5   \n",
       "...          ...       ...     ...          ...       ...       ...   \n",
       "9466         NaN       NaN     NaN          NaN       NaN       NaN   \n",
       "9467         NaN       NaN     NaN          NaN       NaN       NaN   \n",
       "9468         NaN       NaN     NaN          NaN       NaN       NaN   \n",
       "9469         NaN       NaN     NaN          NaN       NaN       NaN   \n",
       "9470         NaN       NaN     NaN          NaN       NaN       NaN   \n",
       "\n",
       "      PT08.S2(NMHC)  NOx(GT)  PT08.S3(NOx)  NO2(GT)  PT08.S4(NO2)  \\\n",
       "0            1046.0    166.0        1056.0    113.0        1692.0   \n",
       "1             955.0    103.0        1174.0     92.0        1559.0   \n",
       "2             939.0    131.0        1140.0    114.0        1555.0   \n",
       "3             948.0    172.0        1092.0    122.0        1584.0   \n",
       "4             836.0    131.0        1205.0    116.0        1490.0   \n",
       "...             ...      ...           ...      ...           ...   \n",
       "9466            NaN      NaN           NaN      NaN           NaN   \n",
       "9467            NaN      NaN           NaN      NaN           NaN   \n",
       "9468            NaN      NaN           NaN      NaN           NaN   \n",
       "9469            NaN      NaN           NaN      NaN           NaN   \n",
       "9470            NaN      NaN           NaN      NaN           NaN   \n",
       "\n",
       "      PT08.S5(O3)     T    RH      AH  Unnamed: 15  Unnamed: 16  \n",
       "0          1268.0  13.6  48.9  0.7578          NaN          NaN  \n",
       "1           972.0  13.3  47.7  0.7255          NaN          NaN  \n",
       "2          1074.0  11.9  54.0  0.7502          NaN          NaN  \n",
       "3          1203.0  11.0  60.0  0.7867          NaN          NaN  \n",
       "4          1110.0  11.2  59.6  0.7888          NaN          NaN  \n",
       "...           ...   ...   ...     ...          ...          ...  \n",
       "9466          NaN   NaN   NaN     NaN          NaN          NaN  \n",
       "9467          NaN   NaN   NaN     NaN          NaN          NaN  \n",
       "9468          NaN   NaN   NaN     NaN          NaN          NaN  \n",
       "9469          NaN   NaN   NaN     NaN          NaN          NaN  \n",
       "9470          NaN   NaN   NaN     NaN          NaN          NaN  \n",
       "\n",
       "[9471 rows x 17 columns]"
      ]
     },
     "execution_count": 5,
     "metadata": {},
     "output_type": "execute_result"
    }
   ],
   "source": [
    "data"
   ]
  },
  {
   "cell_type": "code",
   "execution_count": 6,
   "id": "850eb74c",
   "metadata": {},
   "outputs": [],
   "source": [
    "data_drop = data.copy()"
   ]
  },
  {
   "cell_type": "code",
   "execution_count": 7,
   "id": "8912ea39",
   "metadata": {},
   "outputs": [],
   "source": [
    "data_drop.dropna(how= 'all', inplace = True)\n",
    "    "
   ]
  },
  {
   "cell_type": "code",
   "execution_count": 8,
   "id": "cd0f5164",
   "metadata": {},
   "outputs": [],
   "source": [
    "df_date_RH = data_drop[['Date','RH']].copy()"
   ]
  },
  {
   "cell_type": "code",
   "execution_count": 9,
   "id": "373873f7",
   "metadata": {},
   "outputs": [],
   "source": [
    "data_RH = df_date_RH.groupby(['Date']).mean().reset_index()"
   ]
  },
  {
   "cell_type": "code",
   "execution_count": 10,
   "id": "5f0acedd",
   "metadata": {},
   "outputs": [
    {
     "data": {
      "text/html": [
       "<div>\n",
       "<style scoped>\n",
       "    .dataframe tbody tr th:only-of-type {\n",
       "        vertical-align: middle;\n",
       "    }\n",
       "\n",
       "    .dataframe tbody tr th {\n",
       "        vertical-align: top;\n",
       "    }\n",
       "\n",
       "    .dataframe thead th {\n",
       "        text-align: right;\n",
       "    }\n",
       "</style>\n",
       "<table border=\"1\" class=\"dataframe\">\n",
       "  <thead>\n",
       "    <tr style=\"text-align: right;\">\n",
       "      <th></th>\n",
       "      <th>Date</th>\n",
       "      <th>RH</th>\n",
       "    </tr>\n",
       "  </thead>\n",
       "  <tbody>\n",
       "    <tr>\n",
       "      <th>0</th>\n",
       "      <td>01/01/2005</td>\n",
       "      <td>50.795833</td>\n",
       "    </tr>\n",
       "    <tr>\n",
       "      <th>1</th>\n",
       "      <td>01/02/2005</td>\n",
       "      <td>51.741667</td>\n",
       "    </tr>\n",
       "    <tr>\n",
       "      <th>2</th>\n",
       "      <td>01/03/2005</td>\n",
       "      <td>35.104167</td>\n",
       "    </tr>\n",
       "    <tr>\n",
       "      <th>3</th>\n",
       "      <td>01/04/2004</td>\n",
       "      <td>19.741667</td>\n",
       "    </tr>\n",
       "    <tr>\n",
       "      <th>4</th>\n",
       "      <td>01/04/2005</td>\n",
       "      <td>35.962500</td>\n",
       "    </tr>\n",
       "    <tr>\n",
       "      <th>...</th>\n",
       "      <td>...</td>\n",
       "      <td>...</td>\n",
       "    </tr>\n",
       "    <tr>\n",
       "      <th>386</th>\n",
       "      <td>31/05/2004</td>\n",
       "      <td>42.870833</td>\n",
       "    </tr>\n",
       "    <tr>\n",
       "      <th>387</th>\n",
       "      <td>31/07/2004</td>\n",
       "      <td>28.212500</td>\n",
       "    </tr>\n",
       "    <tr>\n",
       "      <th>388</th>\n",
       "      <td>31/08/2004</td>\n",
       "      <td>46.183333</td>\n",
       "    </tr>\n",
       "    <tr>\n",
       "      <th>389</th>\n",
       "      <td>31/10/2004</td>\n",
       "      <td>68.829167</td>\n",
       "    </tr>\n",
       "    <tr>\n",
       "      <th>390</th>\n",
       "      <td>31/12/2004</td>\n",
       "      <td>39.341667</td>\n",
       "    </tr>\n",
       "  </tbody>\n",
       "</table>\n",
       "<p>391 rows × 2 columns</p>\n",
       "</div>"
      ],
      "text/plain": [
       "           Date         RH\n",
       "0    01/01/2005  50.795833\n",
       "1    01/02/2005  51.741667\n",
       "2    01/03/2005  35.104167\n",
       "3    01/04/2004  19.741667\n",
       "4    01/04/2005  35.962500\n",
       "..          ...        ...\n",
       "386  31/05/2004  42.870833\n",
       "387  31/07/2004  28.212500\n",
       "388  31/08/2004  46.183333\n",
       "389  31/10/2004  68.829167\n",
       "390  31/12/2004  39.341667\n",
       "\n",
       "[391 rows x 2 columns]"
      ]
     },
     "execution_count": 10,
     "metadata": {},
     "output_type": "execute_result"
    }
   ],
   "source": [
    "data_RH"
   ]
  },
  {
   "cell_type": "code",
   "execution_count": 11,
   "id": "b2ce5061",
   "metadata": {},
   "outputs": [
    {
     "data": {
      "text/plain": [
       "Index(['Date', 'RH'], dtype='object')"
      ]
     },
     "execution_count": 11,
     "metadata": {},
     "output_type": "execute_result"
    }
   ],
   "source": [
    "data_RH.columns"
   ]
  },
  {
   "cell_type": "code",
   "execution_count": 12,
   "id": "363f2758",
   "metadata": {},
   "outputs": [],
   "source": [
    "data_RH['Date'] = pd.to_datetime(data_RH.Date)"
   ]
  },
  {
   "cell_type": "code",
   "execution_count": 13,
   "id": "e9e9ff07",
   "metadata": {},
   "outputs": [],
   "source": [
    "data_sorted = data_RH.sort_values(by='Date').copy()"
   ]
  },
  {
   "cell_type": "code",
   "execution_count": 29,
   "id": "c85d1eda",
   "metadata": {},
   "outputs": [
    {
     "data": {
      "image/png": "[encoded data removed]",
      "text/plain": [
       "<Figure size 432x288 with 1 Axes>"
      ]
     },
     "metadata": {
      "needs_background": "light"
     },
     "output_type": "display_data"
    }
   ],
   "source": [
    "plt.plot(data_sorted['Date'],data_sorted['RH'])\n",
    "plt.xlabel('Date',)\n",
    "plt.xticks(rotation = 90)\n",
    "plt.ylabel('RH')\n",
    "plt.title('Rh/Date')\n",
    "plt.show()"
   ]
  },
  {
   "cell_type": "code",
   "execution_count": 15,
   "id": "9dbc7faa",
   "metadata": {},
   "outputs": [],
   "source": [
    "data_replaceNA = data.copy()"
   ]
  },
  {
   "cell_type": "code",
   "execution_count": 16,
   "id": "f79484b1",
   "metadata": {},
   "outputs": [],
   "source": [
    "data_replaceNA['RH'].fillna(data_replaceNA['RH'].median(), inplace=True)"
   ]
  },
  {
   "cell_type": "code",
   "execution_count": 17,
   "id": "625c7078",
   "metadata": {},
   "outputs": [
    {
     "data": {
      "text/plain": [
       "Date              114\n",
       "Time              114\n",
       "CO(GT)            114\n",
       "PT08.S1(CO)       114\n",
       "NMHC(GT)          114\n",
       "C6H6(GT)          114\n",
       "PT08.S2(NMHC)     114\n",
       "NOx(GT)           114\n",
       "PT08.S3(NOx)      114\n",
       "NO2(GT)           114\n",
       "PT08.S4(NO2)      114\n",
       "PT08.S5(O3)       114\n",
       "T                 114\n",
       "RH                  0\n",
       "AH                114\n",
       "Unnamed: 15      9471\n",
       "Unnamed: 16      9471\n",
       "dtype: int64"
      ]
     },
     "execution_count": 17,
     "metadata": {},
     "output_type": "execute_result"
    }
   ],
   "source": [
    "data_replaceNA.isnull().sum()"
   ]
  },
  {
   "cell_type": "code",
   "execution_count": 18,
   "id": "58bba148",
   "metadata": {},
   "outputs": [],
   "source": [
    "lower_bound = 0.05\n",
    "upper_boud = 0.95\n",
    "lower_value, upper_value = data_replaceNA['RH'].quantile([lower_bound, upper_boud])"
   ]
  },
  {
   "cell_type": "code",
   "execution_count": 19,
   "id": "c5259cad",
   "metadata": {},
   "outputs": [
    {
     "data": {
      "text/plain": [
       "15.1"
      ]
     },
     "execution_count": 19,
     "metadata": {},
     "output_type": "execute_result"
    }
   ],
   "source": [
    "lower_value"
   ]
  },
  {
   "cell_type": "code",
   "execution_count": 20,
   "id": "119821b3",
   "metadata": {},
   "outputs": [
    {
     "data": {
      "text/plain": [
       "77.5"
      ]
     },
     "execution_count": 20,
     "metadata": {},
     "output_type": "execute_result"
    }
   ],
   "source": [
    "upper_value"
   ]
  },
  {
   "cell_type": "code",
   "execution_count": 21,
   "id": "b59962be",
   "metadata": {},
   "outputs": [],
   "source": [
    "data_replaceNA['Outlier'] = [False if i>lower_value and i<upper_value else True for i in data_replaceNA.RH]"
   ]
  },
  {
   "cell_type": "code",
   "execution_count": 22,
   "id": "e4edb995",
   "metadata": {},
   "outputs": [
    {
     "data": {
      "text/plain": [
       "False    8520\n",
       "True      951\n",
       "Name: Outlier, dtype: int64"
      ]
     },
     "execution_count": 22,
     "metadata": {},
     "output_type": "execute_result"
    }
   ],
   "source": [
    "data_replaceNA['Outlier'].value_counts()"
   ]
  },
  {
   "cell_type": "code",
   "execution_count": 23,
   "id": "283491ee",
   "metadata": {},
   "outputs": [],
   "source": [
    "data_frame_outlier = data_replaceNA.loc[data_replaceNA['Outlier']==True]"
   ]
  },
  {
   "cell_type": "code",
   "execution_count": 24,
   "id": "0fe367b0",
   "metadata": {},
   "outputs": [
    {
     "data": {
      "text/html": [
       "<div>\n",
       "<style scoped>\n",
       "    .dataframe tbody tr th:only-of-type {\n",
       "        vertical-align: middle;\n",
       "    }\n",
       "\n",
       "    .dataframe tbody tr th {\n",
       "        vertical-align: top;\n",
       "    }\n",
       "\n",
       "    .dataframe thead th {\n",
       "        text-align: right;\n",
       "    }\n",
       "</style>\n",
       "<table border=\"1\" class=\"dataframe\">\n",
       "  <thead>\n",
       "    <tr style=\"text-align: right;\">\n",
       "      <th></th>\n",
       "      <th>Date</th>\n",
       "      <th>Time</th>\n",
       "      <th>CO(GT)</th>\n",
       "      <th>PT08.S1(CO)</th>\n",
       "      <th>NMHC(GT)</th>\n",
       "      <th>C6H6(GT)</th>\n",
       "      <th>PT08.S2(NMHC)</th>\n",
       "      <th>NOx(GT)</th>\n",
       "      <th>PT08.S3(NOx)</th>\n",
       "      <th>NO2(GT)</th>\n",
       "      <th>PT08.S4(NO2)</th>\n",
       "      <th>PT08.S5(O3)</th>\n",
       "      <th>T</th>\n",
       "      <th>RH</th>\n",
       "      <th>AH</th>\n",
       "      <th>Unnamed: 15</th>\n",
       "      <th>Unnamed: 16</th>\n",
       "      <th>Outlier</th>\n",
       "    </tr>\n",
       "  </thead>\n",
       "  <tbody>\n",
       "    <tr>\n",
       "      <th>20</th>\n",
       "      <td>11/03/2004</td>\n",
       "      <td>14.00.00</td>\n",
       "      <td>2.9</td>\n",
       "      <td>1371.0</td>\n",
       "      <td>164.0</td>\n",
       "      <td>11.5</td>\n",
       "      <td>1034.0</td>\n",
       "      <td>207.0</td>\n",
       "      <td>983.0</td>\n",
       "      <td>128.0</td>\n",
       "      <td>1730.0</td>\n",
       "      <td>1037.0</td>\n",
       "      <td>8.0</td>\n",
       "      <td>81.1</td>\n",
       "      <td>0.8736</td>\n",
       "      <td>NaN</td>\n",
       "      <td>NaN</td>\n",
       "      <td>True</td>\n",
       "    </tr>\n",
       "    <tr>\n",
       "      <th>21</th>\n",
       "      <td>11/03/2004</td>\n",
       "      <td>15.00.00</td>\n",
       "      <td>2.2</td>\n",
       "      <td>1310.0</td>\n",
       "      <td>79.0</td>\n",
       "      <td>8.8</td>\n",
       "      <td>933.0</td>\n",
       "      <td>184.0</td>\n",
       "      <td>1082.0</td>\n",
       "      <td>126.0</td>\n",
       "      <td>1647.0</td>\n",
       "      <td>946.0</td>\n",
       "      <td>8.3</td>\n",
       "      <td>79.8</td>\n",
       "      <td>0.8778</td>\n",
       "      <td>NaN</td>\n",
       "      <td>NaN</td>\n",
       "      <td>True</td>\n",
       "    </tr>\n",
       "    <tr>\n",
       "      <th>167</th>\n",
       "      <td>17/03/2004</td>\n",
       "      <td>17.00.00</td>\n",
       "      <td>2.5</td>\n",
       "      <td>1247.0</td>\n",
       "      <td>134.0</td>\n",
       "      <td>12.3</td>\n",
       "      <td>1060.0</td>\n",
       "      <td>147.0</td>\n",
       "      <td>1032.0</td>\n",
       "      <td>114.0</td>\n",
       "      <td>1525.0</td>\n",
       "      <td>1069.0</td>\n",
       "      <td>28.5</td>\n",
       "      <td>14.9</td>\n",
       "      <td>0.5708</td>\n",
       "      <td>NaN</td>\n",
       "      <td>NaN</td>\n",
       "      <td>True</td>\n",
       "    </tr>\n",
       "    <tr>\n",
       "      <th>299</th>\n",
       "      <td>23/03/2004</td>\n",
       "      <td>05.00.00</td>\n",
       "      <td>0.3</td>\n",
       "      <td>834.0</td>\n",
       "      <td>19.0</td>\n",
       "      <td>0.6</td>\n",
       "      <td>459.0</td>\n",
       "      <td>13.0</td>\n",
       "      <td>1908.0</td>\n",
       "      <td>22.0</td>\n",
       "      <td>1212.0</td>\n",
       "      <td>361.0</td>\n",
       "      <td>8.8</td>\n",
       "      <td>80.5</td>\n",
       "      <td>0.9147</td>\n",
       "      <td>NaN</td>\n",
       "      <td>NaN</td>\n",
       "      <td>True</td>\n",
       "    </tr>\n",
       "    <tr>\n",
       "      <th>334</th>\n",
       "      <td>24/03/2004</td>\n",
       "      <td>16.00.00</td>\n",
       "      <td>2.7</td>\n",
       "      <td>1390.0</td>\n",
       "      <td>230.0</td>\n",
       "      <td>11.4</td>\n",
       "      <td>1028.0</td>\n",
       "      <td>197.0</td>\n",
       "      <td>829.0</td>\n",
       "      <td>126.0</td>\n",
       "      <td>1730.0</td>\n",
       "      <td>1002.0</td>\n",
       "      <td>9.6</td>\n",
       "      <td>81.1</td>\n",
       "      <td>0.9720</td>\n",
       "      <td>NaN</td>\n",
       "      <td>NaN</td>\n",
       "      <td>True</td>\n",
       "    </tr>\n",
       "  </tbody>\n",
       "</table>\n",
       "</div>"
      ],
      "text/plain": [
       "           Date      Time  CO(GT)  PT08.S1(CO)  NMHC(GT)  C6H6(GT)  \\\n",
       "20   11/03/2004  14.00.00     2.9       1371.0     164.0      11.5   \n",
       "21   11/03/2004  15.00.00     2.2       1310.0      79.0       8.8   \n",
       "167  17/03/2004  17.00.00     2.5       1247.0     134.0      12.3   \n",
       "299  23/03/2004  05.00.00     0.3        834.0      19.0       0.6   \n",
       "334  24/03/2004  16.00.00     2.7       1390.0     230.0      11.4   \n",
       "\n",
       "     PT08.S2(NMHC)  NOx(GT)  PT08.S3(NOx)  NO2(GT)  PT08.S4(NO2)  PT08.S5(O3)  \\\n",
       "20          1034.0    207.0         983.0    128.0        1730.0       1037.0   \n",
       "21           933.0    184.0        1082.0    126.0        1647.0        946.0   \n",
       "167         1060.0    147.0        1032.0    114.0        1525.0       1069.0   \n",
       "299          459.0     13.0        1908.0     22.0        1212.0        361.0   \n",
       "334         1028.0    197.0         829.0    126.0        1730.0       1002.0   \n",
       "\n",
       "        T    RH      AH  Unnamed: 15  Unnamed: 16  Outlier  \n",
       "20    8.0  81.1  0.8736          NaN          NaN     True  \n",
       "21    8.3  79.8  0.8778          NaN          NaN     True  \n",
       "167  28.5  14.9  0.5708          NaN          NaN     True  \n",
       "299   8.8  80.5  0.9147          NaN          NaN     True  \n",
       "334   9.6  81.1  0.9720          NaN          NaN     True  "
      ]
     },
     "execution_count": 24,
     "metadata": {},
     "output_type": "execute_result"
    }
   ],
   "source": [
    "data_frame_outlier.head()"
   ]
  },
  {
   "cell_type": "code",
   "execution_count": 30,
   "id": "c329be60",
   "metadata": {},
   "outputs": [
    {
     "data": {
      "image/png": "[encoded data removed]",
      "text/plain": [
       "<Figure size 432x288 with 1 Axes>"
      ]
     },
     "metadata": {
      "needs_background": "light"
     },
     "output_type": "display_data"
    }
   ],
   "source": [
    "plt.scatter(data_replaceNA.index, data_replaceNA['RH'], label = 'RH/index')\n",
    "plt.scatter(data_frame_outlier.index,data_frame_outlier['RH'],color = 'red',label ='Outlier')\n",
    "plt.xticks(np.arange(min(data_replaceNA.index), max(data_replaceNA.index), 1000.0))\n",
    "plt.yticks(np.arange(min(data_replaceNA['RH']), 200, 25.0))\n",
    "plt.xlabel('Sample index',)\n",
    "plt.ylabel('RH')\n",
    "plt.grid()\n",
    "plt.legend()\n",
    "plt.show\n",
    "plt.savefig('RH/index.png',dpi=500)"
   ]
  },
  {
   "cell_type": "code",
   "execution_count": 26,
   "id": "eced4d60",
   "metadata": {},
   "outputs": [
    {
     "name": "stderr",
     "output_type": "stream",
     "text": [
      "/opt/anaconda3/lib/python3.7/site-packages/seaborn/distributions.py:2557: FutureWarning: `distplot` is a deprecated function and will be removed in a future version. Please adapt your code to use either `displot` (a figure-level function with similar flexibility) or `histplot` (an axes-level function for histograms).\n",
      "  warnings.warn(msg, FutureWarning)\n"
     ]
    },
    {
     "data": {
      "text/plain": [
       "<AxesSubplot:xlabel='T', ylabel='Density'>"
      ]
     },
     "execution_count": 26,
     "metadata": {},
     "output_type": "execute_result"
    },
    {
     "data": {
      "image/png": "[encoded data removed]",
      "text/plain": [
       "<Figure size 432x288 with 1 Axes>"
      ]
     },
     "metadata": {
      "needs_background": "light"
     },
     "output_type": "display_data"
    }
   ],
   "source": [
    "sns.distplot(data_drop['T'], hist= True)"
   ]
  },
  {
   "cell_type": "code",
   "execution_count": 27,
   "id": "79043b40",
   "metadata": {},
   "outputs": [
    {
     "data": {
      "text/plain": [
       "17.2"
      ]
     },
     "execution_count": 27,
     "metadata": {},
     "output_type": "execute_result"
    }
   ],
   "source": [
    "data_drop['T'].median()"
   ]
  },
  {
   "cell_type": "code",
   "execution_count": 31,
   "id": "fcb9201f",
   "metadata": {
    "scrolled": true
   },
   "outputs": [
    {
     "data": {
      "text/plain": [
       "([<matplotlib.axis.YTick at 0x7f972b7d9ad0>,\n",
       "  <matplotlib.axis.YTick at 0x7f97482bfc50>,\n",
       "  <matplotlib.axis.YTick at 0x7f972b7d1ad0>,\n",
       "  <matplotlib.axis.YTick at 0x7f973923f5d0>,\n",
       "  <matplotlib.axis.YTick at 0x7f973923fb10>,\n",
       "  <matplotlib.axis.YTick at 0x7f973924c1d0>,\n",
       "  <matplotlib.axis.YTick at 0x7f973924c210>,\n",
       "  <matplotlib.axis.YTick at 0x7f973924c6d0>,\n",
       "  <matplotlib.axis.YTick at 0x7f973924c610>,\n",
       "  <matplotlib.axis.YTick at 0x7f9739254210>,\n",
       "  <matplotlib.axis.YTick at 0x7f9739254690>,\n",
       "  <matplotlib.axis.YTick at 0x7f97392541d0>,\n",
       "  <matplotlib.axis.YTick at 0x7f973925c150>,\n",
       "  <matplotlib.axis.YTick at 0x7f973925c690>,\n",
       "  <matplotlib.axis.YTick at 0x7f973924cd10>,\n",
       "  <matplotlib.axis.YTick at 0x7f973925c890>,\n",
       "  <matplotlib.axis.YTick at 0x7f973925cad0>,\n",
       "  <matplotlib.axis.YTick at 0x7f9739266050>,\n",
       "  <matplotlib.axis.YTick at 0x7f9739266590>,\n",
       "  <matplotlib.axis.YTick at 0x7f97392664d0>],\n",
       " [Text(0, 0, ''),\n",
       "  Text(0, 0, ''),\n",
       "  Text(0, 0, ''),\n",
       "  Text(0, 0, ''),\n",
       "  Text(0, 0, ''),\n",
       "  Text(0, 0, ''),\n",
       "  Text(0, 0, ''),\n",
       "  Text(0, 0, ''),\n",
       "  Text(0, 0, ''),\n",
       "  Text(0, 0, ''),\n",
       "  Text(0, 0, ''),\n",
       "  Text(0, 0, ''),\n",
       "  Text(0, 0, ''),\n",
       "  Text(0, 0, ''),\n",
       "  Text(0, 0, ''),\n",
       "  Text(0, 0, ''),\n",
       "  Text(0, 0, ''),\n",
       "  Text(0, 0, ''),\n",
       "  Text(0, 0, ''),\n",
       "  Text(0, 0, '')])"
      ]
     },
     "execution_count": 31,
     "metadata": {},
     "output_type": "execute_result"
    },
    {
     "data": {
      "image/png": "[encoded data removed]",
      "text/plain": [
       "<Figure size 432x288 with 1 Axes>"
      ]
     },
     "metadata": {
      "needs_background": "light"
     },
     "output_type": "display_data"
    }
   ],
   "source": [
    "plt.hist(data_drop['T'], rwidth=0.7,bins = [-20,-10,0,10,20,30,40,50])\n",
    "plt.yticks(np.arange(0,4000,200.0))"
   ]
  },
  {
   "cell_type": "code",
   "execution_count": null,
   "id": "3e63034f",
   "metadata": {},
   "outputs": [],
   "source": [
    "#Najcześciej występująca wartość temperatury to 17.2. Główny przedział temperatur mieści się w granicach 10:20 stopni. "
   ]
  },
  {
   "cell_type": "code",
   "execution_count": 32,
   "id": "b02dd526",
   "metadata": {},
   "outputs": [],
   "source": [
    "df_RH_T = data_drop[['T','RH']].copy()"
   ]
  },
  {
   "cell_type": "code",
   "execution_count": 33,
   "id": "6a5354be",
   "metadata": {},
   "outputs": [
    {
     "data": {
      "text/html": [
       "<div>\n",
       "<style scoped>\n",
       "    .dataframe tbody tr th:only-of-type {\n",
       "        vertical-align: middle;\n",
       "    }\n",
       "\n",
       "    .dataframe tbody tr th {\n",
       "        vertical-align: top;\n",
       "    }\n",
       "\n",
       "    .dataframe thead th {\n",
       "        text-align: right;\n",
       "    }\n",
       "</style>\n",
       "<table border=\"1\" class=\"dataframe\">\n",
       "  <thead>\n",
       "    <tr style=\"text-align: right;\">\n",
       "      <th></th>\n",
       "      <th>T</th>\n",
       "      <th>RH</th>\n",
       "    </tr>\n",
       "  </thead>\n",
       "  <tbody>\n",
       "    <tr>\n",
       "      <th>4088</th>\n",
       "      <td>-200.0</td>\n",
       "      <td>-200.0</td>\n",
       "    </tr>\n",
       "    <tr>\n",
       "      <th>1826</th>\n",
       "      <td>-200.0</td>\n",
       "      <td>-200.0</td>\n",
       "    </tr>\n",
       "    <tr>\n",
       "      <th>1827</th>\n",
       "      <td>-200.0</td>\n",
       "      <td>-200.0</td>\n",
       "    </tr>\n",
       "    <tr>\n",
       "      <th>7196</th>\n",
       "      <td>-200.0</td>\n",
       "      <td>-200.0</td>\n",
       "    </tr>\n",
       "    <tr>\n",
       "      <th>7197</th>\n",
       "      <td>-200.0</td>\n",
       "      <td>-200.0</td>\n",
       "    </tr>\n",
       "    <tr>\n",
       "      <th>...</th>\n",
       "      <td>...</td>\n",
       "      <td>...</td>\n",
       "    </tr>\n",
       "    <tr>\n",
       "      <th>3212</th>\n",
       "      <td>42.8</td>\n",
       "      <td>14.3</td>\n",
       "    </tr>\n",
       "    <tr>\n",
       "      <th>3237</th>\n",
       "      <td>43.1</td>\n",
       "      <td>13.8</td>\n",
       "    </tr>\n",
       "    <tr>\n",
       "      <th>3215</th>\n",
       "      <td>43.4</td>\n",
       "      <td>14.8</td>\n",
       "    </tr>\n",
       "    <tr>\n",
       "      <th>3213</th>\n",
       "      <td>44.3</td>\n",
       "      <td>13.0</td>\n",
       "    </tr>\n",
       "    <tr>\n",
       "      <th>3214</th>\n",
       "      <td>44.6</td>\n",
       "      <td>12.6</td>\n",
       "    </tr>\n",
       "  </tbody>\n",
       "</table>\n",
       "<p>9357 rows × 2 columns</p>\n",
       "</div>"
      ],
      "text/plain": [
       "          T     RH\n",
       "4088 -200.0 -200.0\n",
       "1826 -200.0 -200.0\n",
       "1827 -200.0 -200.0\n",
       "7196 -200.0 -200.0\n",
       "7197 -200.0 -200.0\n",
       "...     ...    ...\n",
       "3212   42.8   14.3\n",
       "3237   43.1   13.8\n",
       "3215   43.4   14.8\n",
       "3213   44.3   13.0\n",
       "3214   44.6   12.6\n",
       "\n",
       "[9357 rows x 2 columns]"
      ]
     },
     "execution_count": 33,
     "metadata": {},
     "output_type": "execute_result"
    }
   ],
   "source": [
    "df_RH_T.sort_values(by='T')"
   ]
  },
  {
   "cell_type": "code",
   "execution_count": 34,
   "id": "75895fa4",
   "metadata": {},
   "outputs": [
    {
     "data": {
      "image/png": "[encoded data removed]",
      "text/plain": [
       "<Figure size 432x288 with 1 Axes>"
      ]
     },
     "metadata": {
      "needs_background": "light"
     },
     "output_type": "display_data"
    }
   ],
   "source": [
    "plt.plot(df_RH_T['T'],df_RH_T['RH'])\n",
    "plt.xlabel('T')\n",
    "plt.ylabel('RH')\n",
    "plt.show()"
   ]
  },
  {
   "cell_type": "code",
   "execution_count": 35,
   "id": "9e892b47",
   "metadata": {},
   "outputs": [
    {
     "data": {
      "text/html": [
       "<div>\n",
       "<style scoped>\n",
       "    .dataframe tbody tr th:only-of-type {\n",
       "        vertical-align: middle;\n",
       "    }\n",
       "\n",
       "    .dataframe tbody tr th {\n",
       "        vertical-align: top;\n",
       "    }\n",
       "\n",
       "    .dataframe thead th {\n",
       "        text-align: right;\n",
       "    }\n",
       "</style>\n",
       "<table border=\"1\" class=\"dataframe\">\n",
       "  <thead>\n",
       "    <tr style=\"text-align: right;\">\n",
       "      <th></th>\n",
       "      <th>T</th>\n",
       "      <th>RH</th>\n",
       "    </tr>\n",
       "  </thead>\n",
       "  <tbody>\n",
       "    <tr>\n",
       "      <th>T</th>\n",
       "      <td>1.000000</td>\n",
       "      <td>0.885911</td>\n",
       "    </tr>\n",
       "    <tr>\n",
       "      <th>RH</th>\n",
       "      <td>0.885911</td>\n",
       "      <td>1.000000</td>\n",
       "    </tr>\n",
       "  </tbody>\n",
       "</table>\n",
       "</div>"
      ],
      "text/plain": [
       "           T        RH\n",
       "T   1.000000  0.885911\n",
       "RH  0.885911  1.000000"
      ]
     },
     "execution_count": 35,
     "metadata": {},
     "output_type": "execute_result"
    }
   ],
   "source": [
    "df_RH_T.corr()"
   ]
  },
  {
   "cell_type": "code",
   "execution_count": 36,
   "id": "82998e6c",
   "metadata": {},
   "outputs": [
    {
     "data": {
      "text/plain": [
       "array([[<AxesSubplot:xlabel='T', ylabel='T'>,\n",
       "        <AxesSubplot:xlabel='RH', ylabel='T'>],\n",
       "       [<AxesSubplot:xlabel='T', ylabel='RH'>,\n",
       "        <AxesSubplot:xlabel='RH', ylabel='RH'>]], dtype=object)"
      ]
     },
     "execution_count": 36,
     "metadata": {},
     "output_type": "execute_result"
    },
    {
     "data": {
      "image/png": "[encoded data removed]",
      "text/plain": [
       "<Figure size 432x288 with 4 Axes>"
      ]
     },
     "metadata": {
      "needs_background": "light"
     },
     "output_type": "display_data"
    }
   ],
   "source": [
    "pd.plotting.scatter_matrix(df_RH_T)"
   ]
  },
  {
   "cell_type": "code",
   "execution_count": null,
   "id": "c075956d",
   "metadata": {},
   "outputs": [],
   "source": [
    "#Pomiedzy T a RH występuje bardzo silna korelacja. Im większa temperatura tym większa wilgotność powietrza. W tym wypadku również wypada zwrócić uwagę na wartości odstające, gdyż kilka wierszy otrzymało wartości -200 co może świadczyć o błędzie pomiarowym. "
   ]
  }
 ],
 "metadata": {
  "kernelspec": {
   "display_name": "Python 3",
   "language": "python",
   "name": "python3"
  },
  "language_info": {
   "codemirror_mode": {
    "name": "ipython",
    "version": 3
   },
   "file_extension": ".py",
   "mimetype": "text/x-python",
   "name": "python",
   "nbconvert_exporter": "python",
   "pygments_lexer": "ipython3",
   "version": "3.7.10"
  }
 },
 "nbformat": 4,
 "nbformat_minor": 5
}
